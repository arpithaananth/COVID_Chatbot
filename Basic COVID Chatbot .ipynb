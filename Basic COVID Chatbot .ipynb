{
 "cells": [
  {
   "cell_type": "markdown",
   "metadata": {},
   "source": [
    "## COVID Chatbot\n",
    "\n",
    "This is a simple COVID Based Chatbot which can answer around 20 questions regarding COVID-19"
   ]
  },
  {
   "cell_type": "markdown",
   "metadata": {},
   "source": [
    "### Pre-processing the raw text"
   ]
  },
  {
   "cell_type": "code",
   "execution_count": 1,
   "metadata": {},
   "outputs": [],
   "source": [
    "import nltk\n",
    "import numpy as np\n",
    "import random\n",
    "import string\n",
    "import warnings\n",
    "warnings.filterwarnings(\"ignore\")\n",
    "from string import punctuation\n",
    "from nltk.corpus import stopwords\n",
    "from nltk.tokenize import word_tokenize\n",
    "from nltk.stem import WordNetLemmatizer\n",
    "lemm = WordNetLemmatizer()\n",
    "stop_nltk = stopwords.words(\"english\")\n",
    "from sklearn.feature_extraction.text import TfidfVectorizer\n",
    "from sklearn.metrics.pairwise import cosine_similarity\n",
    "\n",
    "def clean_text(text):\n",
    "    tokens= word_tokenize(text.lower())\n",
    "    stemmed=[lemm.lemmatize(term) for term in tokens if term not in stop_nltk and term not in list(punctuation) and len(term)>2]\n",
    "    return stemmed"
   ]
  },
  {
   "cell_type": "code",
   "execution_count": 2,
   "metadata": {},
   "outputs": [],
   "source": [
    "f=open('Q&A.txt','r',errors = 'ignore')\n",
    "raw=f.read()\n",
    "raw=raw.lower()\n",
    "sent_tokens = nltk.sent_tokenize(raw) \n",
    "word_tokens = nltk.word_tokenize(raw)"
   ]
  },
  {
   "cell_type": "code",
   "execution_count": 3,
   "metadata": {},
   "outputs": [
    {
     "data": {
      "text/plain": [
       "['covid or coronavirus disease or covid-19 is an infectious disease caused by a newly discovered coronavirus, covid-19 is now a pandemic affecting many countries globally.']"
      ]
     },
     "execution_count": 3,
     "metadata": {},
     "output_type": "execute_result"
    }
   ],
   "source": [
    "sent_tokens[:1]"
   ]
  },
  {
   "cell_type": "code",
   "execution_count": 4,
   "metadata": {},
   "outputs": [],
   "source": [
    "GREETING_INPUTS = [\"hello\", \"hi\", \"greetings\", \"sup\", \"what's up\",\"hey\"]\n",
    "GREETING_RESPONSES = [\"hi\", \"hey\", \"hi there\", \"hello\", \"i am glad! you are talking to me\"]\n",
    "def greeting(sentence):\n",
    "    for word in sentence.split():\n",
    "        if word.lower() in GREETING_INPUTS:\n",
    "            return random.choice(GREETING_RESPONSES)     "
   ]
  },
  {
   "cell_type": "code",
   "execution_count": 5,
   "metadata": {},
   "outputs": [],
   "source": [
    "def response(user_response):\n",
    "    health_assistant_response=''\n",
    "    sent_tokens.append(user_response)\n",
    "    TfidfVec = TfidfVectorizer(tokenizer=clean_text, stop_words='english')\n",
    "    tfidf = TfidfVec.fit_transform(sent_tokens)\n",
    "    vals = cosine_similarity(tfidf[-1], tfidf)\n",
    "    idx=vals.argsort()[0][-2]\n",
    "    flat = vals.flatten()\n",
    "    flat.sort()\n",
    "    req_tfidf = flat[-2]\n",
    "    if(req_tfidf==0):\n",
    "        health_assistant_response=health_assistant_response+\"I am sorry! I don't understand you\"\n",
    "        return health_assistant_response\n",
    "    else:\n",
    "        health_assistant_response = '\\x1b[1;31m'+health_assistant_response+sent_tokens[idx]+'\\x1b[0m'\n",
    "        return health_assistant_response"
   ]
  },
  {
   "cell_type": "code",
   "execution_count": 6,
   "metadata": {
    "scrolled": false
   },
   "outputs": [
    {
     "name": "stdout",
     "output_type": "stream",
     "text": [
      "\u001b[1;31mHealth Assistant: Hi, I am your Health Assistant. I will answer your queries about COVID-19. If you want to exit, type Bye\u001b[0m\n",
      "User: Hi\n",
      "\u001b[1;31mHealth Assistant: hello\u001b[0m\n",
      "User: What is covid-19?\n",
      "\u001b[1;31mHealth Assistant: \u001b[0m\u001b[1;31mcovid or coronavirus disease or covid-19 is an infectious disease caused by a newly discovered coronavirus, covid-19 is now a pandemic affecting many countries globally.\u001b[0m\n",
      "User: What are the symptoms?\n",
      "\u001b[1;31mHealth Assistant: \u001b[0m\u001b[1;31msymptoms of covid-19 are fever, dry cough, and tiredness.\u001b[0m\n",
      "User: How do I protect myself?\n",
      "\u001b[1;31mHealth Assistant: \u001b[0m\u001b[1;31mprotect yourself and others from infection by, cleaning your hands frequently and thoroughly.avoid touching your eyes, mouth and nose.\u001b[0m\n",
      "User: how does it spread?\n",
      "\u001b[1;31mHealth Assistant: \u001b[0m\u001b[1;31mthe disease spreads primarily from person to person through small droplets from the nose or mouth, which are expelled when a person with covid-19 coughs, sneezes, or speaks, hence wearing a mask & social distancing is important.\u001b[0m\n",
      "User: Does it affect older people?\n",
      "\u001b[1;31mHealth Assistant: \u001b[0m\u001b[1;31molder people, and those with underlying medical problems like cardiovascular disease, diabetes, chronic respiratory disease, and cancer are more likely to develop serious illness.\u001b[0m\n",
      "User: Children?\n",
      "\u001b[1;31mHealth Assistant: \u001b[0m\u001b[1;31mresearch indicates that children and adolescents are just as likely to become infected as any other age group.\u001b[0m\n",
      "User: Should I wear a mask?\n",
      "\u001b[1;31mHealth Assistant: \u001b[0m\u001b[1;31mmasks can protect people from getting infected, as well as can prevent those who have symptoms from spreading them, however general public can use non-medical or fabric mask and health workers or covid positive patients can use medical masks.\u001b[0m\n",
      "User: Sanitizer?\n",
      "\u001b[1;31mHealth Assistant: \u001b[0m\u001b[1;31myou can use a hand sanitizer with at least 60% alcohol, as sanitizers with lower concentrations of alcohol aren't as effective at killing germs, alteratively you can wash your hands with soap as well.\u001b[0m\n",
      "User: How do I wash vegetables?\n",
      "\u001b[1;31mHealth Assistant: \u001b[0m\u001b[1;31madd a drop of potassium permanganate to water to disinfect your vegetables and fruits.\u001b[0m\n",
      "User: Body Temperature?\n",
      "\u001b[1;31mHealth Assistant: \u001b[0m\u001b[1;31mbody temperature greater than equal to 97.9 degrees fahernit, get it checked with doctor.\u001b[0m\n",
      "User: Cold\n",
      "\u001b[1;31mHealth Assistant: \u001b[0m\u001b[1;31mincase you have cough, cold, fever or tiredness, please get yourself tested.\u001b[0m\n",
      "User: Fever\n",
      "\u001b[1;31mHealth Assistant: \u001b[0m\u001b[1;31msymptoms of covid-19 are fever, dry cough, and tiredness.\u001b[0m\n",
      "User: Covid Statistics\n",
      "\u001b[1;31mHealth Assistant: \u001b[0m\u001b[1;31mcovid statistics in karnataka is, confirmed- 388433, recovered- 15409, death- 684\n",
      "covid statistics in india, confirmed- 907k, recovered-571k , death- 23727\n",
      "covid statistics in world, confirmed-13.1m  recovered- 7.23m, death-572k.\u001b[0m\n",
      "User: Vaccine available?\n",
      "\u001b[1;31mHealth Assistant: \u001b[0m\u001b[1;31mthere is no vaccine currently available.\u001b[0m\n",
      "User: Any tests for covid?\n",
      "\u001b[1;31mHealth Assistant: \u001b[0m\u001b[1;31mfda has authorized two different types of tests (diagnostic and antibody tests) for use during the covid-19 emergency.\u001b[0m\n",
      "User: Bye\n",
      "\u001b[1;31mHealth Assistant: Bye! Stay Home, Stay Safe\u001b[0m\n"
     ]
    }
   ],
   "source": [
    "flag=True\n",
    "print('\\x1b[1;31m'+\"Health Assistant: Hi, I am your Health Assistant. I will answer your queries about COVID-19. If you want to exit, type Bye\"+'\\x1b[0m')\n",
    "while(flag==True):\n",
    "    user_response = input('User: ')\n",
    "    user_response=user_response.lower()\n",
    "    if(user_response!='bye'):\n",
    "        if(user_response=='thanks' or user_response=='thank you' or user_response=='ok thanks'):\n",
    "            flag=False\n",
    "            print('\\x1b[1;31m'+\"Health Assistant: You are Welcome\"+'\\x1b[0m')\n",
    "        else:\n",
    "            if(greeting(user_response)!=None):\n",
    "                print('\\x1b[1;31m'+\"Health Assistant: \"+greeting(user_response)+'\\x1b[0m')\n",
    "            else:\n",
    "                print('\\x1b[1;31m'+\"Health Assistant: \",end=\"\"+'\\x1b[0m')\n",
    "                print(response(user_response))\n",
    "                sent_tokens.remove(user_response)\n",
    "    else:\n",
    "        flag=False\n",
    "        print('\\x1b[1;31m'+\"Health Assistant: Bye! Stay Home, Stay Safe\"+'\\x1b[0m')"
   ]
  }
 ],
 "metadata": {
  "kernelspec": {
   "display_name": "Python 3",
   "language": "python",
   "name": "python3"
  },
  "language_info": {
   "codemirror_mode": {
    "name": "ipython",
    "version": 3
   },
   "file_extension": ".py",
   "mimetype": "text/x-python",
   "name": "python",
   "nbconvert_exporter": "python",
   "pygments_lexer": "ipython3",
   "version": "3.7.3"
  }
 },
 "nbformat": 4,
 "nbformat_minor": 2
}
